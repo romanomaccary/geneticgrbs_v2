{
 "cells": [
  {
   "cell_type": "markdown",
   "metadata": {},
   "source": [
    "GBM LCs repository: /astrodata/romain/GBM_LC_repository/data/bn*********/LC/"
   ]
  },
  {
   "cell_type": "code",
   "execution_count": 20,
   "metadata": {},
   "outputs": [],
   "source": [
    "################################################################################\n",
    "# Import the libraries\n",
    "################################################################################\n",
    "\n",
    "import numpy as np\n",
    "import pandas as pd\n",
    "import matplotlib.pyplot as plt"
   ]
  },
  {
   "cell_type": "markdown",
   "metadata": {},
   "source": [
    "GBM GRBs fluence catalogue: see Table 6 from von Kienlin et al. (2020) "
   ]
  },
  {
   "cell_type": "code",
   "execution_count": 2,
   "metadata": {},
   "outputs": [],
   "source": [
    "################################################################################\n",
    "# Load the machine readable Table 6 from von Kienlin et al. (2020)\n",
    "################################################################################\n",
    "\n",
    "fermi_ids = []\n",
    "fluences = []\n",
    "e_fluences = []\n",
    "\n",
    "with open('./von_kienlin20_apj_table6.txt', 'r') as f:\n",
    "    lines = f.readlines()[22:]\n",
    "    for line in lines[:-1]:\n",
    "        words = line.split()\n",
    "        fermi_ids.append(words[0])\n",
    "        fluences.append(float(words[1]))\n",
    "        e_fluences.append(float(words[2]))\n",
    "        \n"
   ]
  },
  {
   "cell_type": "code",
   "execution_count": 21,
   "metadata": {},
   "outputs": [],
   "source": [
    "################################################################################\n",
    "# Load the machine readable Table 6 from von Kienlin et al. (2020)\n",
    "################################################################################\n",
    "\n",
    "t90s      = []\n",
    "e_t90     = []\n",
    "\n",
    "with open('./von_kienlin20_apj_table5.txt', 'r') as f:\n",
    "    lines = f.readlines()[93:]\n",
    "    for line in lines:\n",
    "        words = line.split()\n",
    "        if len(words)  == 8:\n",
    "            t90s.append(float(words[2]))\n",
    "            e_t90.append(float(words[3]))\n",
    "        elif len(words)  == 9:\n",
    "            t90s.append(float(words[3]))\n",
    "            e_t90.append(float(words[4]))\n",
    "        else:\n",
    "            raise Exception"
   ]
  },
  {
   "cell_type": "code",
   "execution_count": 22,
   "metadata": {},
   "outputs": [
    {
     "data": {
      "text/html": [
       "<div>\n",
       "<style scoped>\n",
       "    .dataframe tbody tr th:only-of-type {\n",
       "        vertical-align: middle;\n",
       "    }\n",
       "\n",
       "    .dataframe tbody tr th {\n",
       "        vertical-align: top;\n",
       "    }\n",
       "\n",
       "    .dataframe thead th {\n",
       "        text-align: right;\n",
       "    }\n",
       "</style>\n",
       "<table border=\"1\" class=\"dataframe\">\n",
       "  <thead>\n",
       "    <tr style=\"text-align: right;\">\n",
       "      <th></th>\n",
       "      <th>fermi_ids</th>\n",
       "      <th>fluences</th>\n",
       "      <th>e_fluences</th>\n",
       "      <th>T90</th>\n",
       "      <th>Err_T90</th>\n",
       "    </tr>\n",
       "  </thead>\n",
       "  <tbody>\n",
       "    <tr>\n",
       "      <th>0</th>\n",
       "      <td>bn080714086</td>\n",
       "      <td>6.760000e-07</td>\n",
       "      <td>4.070000e-08</td>\n",
       "      <td>5.376</td>\n",
       "      <td>2.360</td>\n",
       "    </tr>\n",
       "    <tr>\n",
       "      <th>1</th>\n",
       "      <td>bn080714425</td>\n",
       "      <td>1.810000e-06</td>\n",
       "      <td>2.090000e-08</td>\n",
       "      <td>40.192</td>\n",
       "      <td>1.145</td>\n",
       "    </tr>\n",
       "    <tr>\n",
       "      <th>2</th>\n",
       "      <td>bn080714745</td>\n",
       "      <td>6.330000e-06</td>\n",
       "      <td>1.410000e-07</td>\n",
       "      <td>59.649</td>\n",
       "      <td>11.276</td>\n",
       "    </tr>\n",
       "    <tr>\n",
       "      <th>3</th>\n",
       "      <td>bn080715950</td>\n",
       "      <td>5.040000e-06</td>\n",
       "      <td>7.950000e-08</td>\n",
       "      <td>7.872</td>\n",
       "      <td>0.272</td>\n",
       "    </tr>\n",
       "    <tr>\n",
       "      <th>4</th>\n",
       "      <td>bn080717543</td>\n",
       "      <td>4.460000e-06</td>\n",
       "      <td>7.680000e-08</td>\n",
       "      <td>36.609</td>\n",
       "      <td>2.985</td>\n",
       "    </tr>\n",
       "    <tr>\n",
       "      <th>...</th>\n",
       "      <td>...</td>\n",
       "      <td>...</td>\n",
       "      <td>...</td>\n",
       "      <td>...</td>\n",
       "      <td>...</td>\n",
       "    </tr>\n",
       "    <tr>\n",
       "      <th>2354</th>\n",
       "      <td>bn180703876</td>\n",
       "      <td>1.630000e-05</td>\n",
       "      <td>4.290000e-08</td>\n",
       "      <td>20.736</td>\n",
       "      <td>1.557</td>\n",
       "    </tr>\n",
       "    <tr>\n",
       "      <th>2355</th>\n",
       "      <td>bn180703949</td>\n",
       "      <td>8.850000e-06</td>\n",
       "      <td>1.820000e-08</td>\n",
       "      <td>1.536</td>\n",
       "      <td>0.091</td>\n",
       "    </tr>\n",
       "    <tr>\n",
       "      <th>2356</th>\n",
       "      <td>bn180706351</td>\n",
       "      <td>3.980000e-06</td>\n",
       "      <td>2.950000e-08</td>\n",
       "      <td>38.144</td>\n",
       "      <td>1.145</td>\n",
       "    </tr>\n",
       "    <tr>\n",
       "      <th>2357</th>\n",
       "      <td>bn180709099</td>\n",
       "      <td>3.880000e-06</td>\n",
       "      <td>2.750000e-08</td>\n",
       "      <td>11.008</td>\n",
       "      <td>1.280</td>\n",
       "    </tr>\n",
       "    <tr>\n",
       "      <th>2358</th>\n",
       "      <td>bn180710062</td>\n",
       "      <td>4.330000e-06</td>\n",
       "      <td>3.600000e-08</td>\n",
       "      <td>90.112</td>\n",
       "      <td>3.208</td>\n",
       "    </tr>\n",
       "  </tbody>\n",
       "</table>\n",
       "<p>2359 rows × 5 columns</p>\n",
       "</div>"
      ],
      "text/plain": [
       "        fermi_ids      fluences    e_fluences     T90  Err_T90\n",
       "0     bn080714086  6.760000e-07  4.070000e-08   5.376    2.360\n",
       "1     bn080714425  1.810000e-06  2.090000e-08  40.192    1.145\n",
       "2     bn080714745  6.330000e-06  1.410000e-07  59.649   11.276\n",
       "3     bn080715950  5.040000e-06  7.950000e-08   7.872    0.272\n",
       "4     bn080717543  4.460000e-06  7.680000e-08  36.609    2.985\n",
       "...           ...           ...           ...     ...      ...\n",
       "2354  bn180703876  1.630000e-05  4.290000e-08  20.736    1.557\n",
       "2355  bn180703949  8.850000e-06  1.820000e-08   1.536    0.091\n",
       "2356  bn180706351  3.980000e-06  2.950000e-08  38.144    1.145\n",
       "2357  bn180709099  3.880000e-06  2.750000e-08  11.008    1.280\n",
       "2358  bn180710062  4.330000e-06  3.600000e-08  90.112    3.208\n",
       "\n",
       "[2359 rows x 5 columns]"
      ]
     },
     "execution_count": 22,
     "metadata": {},
     "output_type": "execute_result"
    }
   ],
   "source": [
    "fluence_dict = {'fermi_ids': fermi_ids, 'fluences': fluences, 'e_fluences': e_fluences, 'T90': t90s, 'Err_T90': e_t90}\n",
    "\n",
    "fluence_df = pd.DataFrame(fluence_dict)\n",
    "fluence_df"
   ]
  },
  {
   "cell_type": "code",
   "execution_count": 26,
   "metadata": {},
   "outputs": [
    {
     "data": {
      "text/plain": [
       "[]"
      ]
     },
     "execution_count": 26,
     "metadata": {},
     "output_type": "execute_result"
    },
    {
     "data": {
      "image/png": "[encoded data removed]",
      "text/plain": [
       "<Figure size 640x480 with 1 Axes>"
      ]
     },
     "metadata": {},
     "output_type": "display_data"
    }
   ],
   "source": [
    "#plt.hist(t90s)\n",
    "plt.hist(t90s, bins=np.logspace(min(np.log10(t90s)), max(np.log10(t90s)), 30))\n",
    "plt.loglog()\n"
   ]
  },
  {
   "cell_type": "code",
   "execution_count": 27,
   "metadata": {},
   "outputs": [],
   "source": [
    "with open('vk_catalog_list.txt', 'w') as vk_list_file:\n",
    "    vk_list_file.write('#%10s %8s \\n' %('fermi_id', 'T90'))\n",
    "    for fermi_id, T90 in zip(fluence_df['fermi_ids'], fluence_df['T90']):\n",
    "        vk_list_file.write('%11s %3.2e \\n' %(fermi_id, T90))    \n",
    "    #np.savetxt(vk_list_file, np.array(fluence_df['fermi_ids'], dtype='str'), fmt=\"%12s\")"
   ]
  },
  {
   "cell_type": "code",
   "execution_count": 7,
   "metadata": {},
   "outputs": [
    {
     "data": {
      "text/html": [
       "<div>\n",
       "<style scoped>\n",
       "    .dataframe tbody tr th:only-of-type {\n",
       "        vertical-align: middle;\n",
       "    }\n",
       "\n",
       "    .dataframe tbody tr th {\n",
       "        vertical-align: top;\n",
       "    }\n",
       "\n",
       "    .dataframe thead th {\n",
       "        text-align: right;\n",
       "    }\n",
       "</style>\n",
       "<table border=\"1\" class=\"dataframe\">\n",
       "  <thead>\n",
       "    <tr style=\"text-align: right;\">\n",
       "      <th></th>\n",
       "      <th>fermi_ids</th>\n",
       "      <th>fluences</th>\n",
       "      <th>e_fluences</th>\n",
       "      <th>T90</th>\n",
       "      <th>Err_T90</th>\n",
       "    </tr>\n",
       "  </thead>\n",
       "  <tbody>\n",
       "    <tr>\n",
       "      <th>7</th>\n",
       "      <td>bn080723557</td>\n",
       "      <td>0.000072</td>\n",
       "      <td>2.540000e-07</td>\n",
       "      <td>58.369</td>\n",
       "      <td>1.985</td>\n",
       "    </tr>\n",
       "    <tr>\n",
       "      <th>9</th>\n",
       "      <td>bn080723985</td>\n",
       "      <td>0.000031</td>\n",
       "      <td>2.070000e-07</td>\n",
       "      <td>42.817</td>\n",
       "      <td>0.659</td>\n",
       "    </tr>\n",
       "    <tr>\n",
       "      <th>10</th>\n",
       "      <td>bn080724401</td>\n",
       "      <td>0.000016</td>\n",
       "      <td>5.040000e-08</td>\n",
       "      <td>379.397</td>\n",
       "      <td>2.202</td>\n",
       "    </tr>\n",
       "    <tr>\n",
       "      <th>13</th>\n",
       "      <td>bn080727964</td>\n",
       "      <td>0.000013</td>\n",
       "      <td>7.910000e-08</td>\n",
       "      <td>89.089</td>\n",
       "      <td>6.476</td>\n",
       "    </tr>\n",
       "    <tr>\n",
       "      <th>23</th>\n",
       "      <td>bn080806896</td>\n",
       "      <td>0.000013</td>\n",
       "      <td>1.940000e-07</td>\n",
       "      <td>75.777</td>\n",
       "      <td>4.185</td>\n",
       "    </tr>\n",
       "    <tr>\n",
       "      <th>...</th>\n",
       "      <td>...</td>\n",
       "      <td>...</td>\n",
       "      <td>...</td>\n",
       "      <td>...</td>\n",
       "      <td>...</td>\n",
       "    </tr>\n",
       "    <tr>\n",
       "      <th>2338</th>\n",
       "      <td>bn180612785</td>\n",
       "      <td>0.000016</td>\n",
       "      <td>5.770000e-08</td>\n",
       "      <td>101.122</td>\n",
       "      <td>1.056</td>\n",
       "    </tr>\n",
       "    <tr>\n",
       "      <th>2340</th>\n",
       "      <td>bn180615462</td>\n",
       "      <td>0.000015</td>\n",
       "      <td>1.780000e-07</td>\n",
       "      <td>22.528</td>\n",
       "      <td>1.810</td>\n",
       "    </tr>\n",
       "    <tr>\n",
       "      <th>2343</th>\n",
       "      <td>bn180618724</td>\n",
       "      <td>0.000019</td>\n",
       "      <td>5.270000e-08</td>\n",
       "      <td>130.050</td>\n",
       "      <td>1.280</td>\n",
       "    </tr>\n",
       "    <tr>\n",
       "      <th>2348</th>\n",
       "      <td>bn180623849</td>\n",
       "      <td>0.000020</td>\n",
       "      <td>3.400000e-08</td>\n",
       "      <td>15.872</td>\n",
       "      <td>0.810</td>\n",
       "    </tr>\n",
       "    <tr>\n",
       "      <th>2354</th>\n",
       "      <td>bn180703876</td>\n",
       "      <td>0.000016</td>\n",
       "      <td>4.290000e-08</td>\n",
       "      <td>20.736</td>\n",
       "      <td>1.557</td>\n",
       "    </tr>\n",
       "  </tbody>\n",
       "</table>\n",
       "<p>480 rows × 5 columns</p>\n",
       "</div>"
      ],
      "text/plain": [
       "        fermi_ids  fluences    e_fluences      T90  Err_T90\n",
       "7     bn080723557  0.000072  2.540000e-07   58.369    1.985\n",
       "9     bn080723985  0.000031  2.070000e-07   42.817    0.659\n",
       "10    bn080724401  0.000016  5.040000e-08  379.397    2.202\n",
       "13    bn080727964  0.000013  7.910000e-08   89.089    6.476\n",
       "23    bn080806896  0.000013  1.940000e-07   75.777    4.185\n",
       "...           ...       ...           ...      ...      ...\n",
       "2338  bn180612785  0.000016  5.770000e-08  101.122    1.056\n",
       "2340  bn180615462  0.000015  1.780000e-07   22.528    1.810\n",
       "2343  bn180618724  0.000019  5.270000e-08  130.050    1.280\n",
       "2348  bn180623849  0.000020  3.400000e-08   15.872    0.810\n",
       "2354  bn180703876  0.000016  4.290000e-08   20.736    1.557\n",
       "\n",
       "[480 rows x 5 columns]"
      ]
     },
     "execution_count": 7,
     "metadata": {},
     "output_type": "execute_result"
    }
   ],
   "source": [
    "################################################################################\n",
    "# Select only those GRBs whose fluence is at least equal to 1e-5\n",
    "################################################################################\n",
    "\n",
    "#\n",
    "bright_fluence_df = fluence_df[np.logical_and(fluence_df['fluences'] >= 1e-5, fluence_df['T90'] >= 2)]\n",
    "#bright_fluence_df = fluence_df[fluence_df['fluences'] >= 1e-5]\n",
    "bright_fluence_df"
   ]
  },
  {
   "cell_type": "code",
   "execution_count": 8,
   "metadata": {},
   "outputs": [
    {
     "data": {
      "image/png": "[encoded data removed]",
      "text/plain": [
       "<Figure size 640x480 with 1 Axes>"
      ]
     },
     "metadata": {},
     "output_type": "display_data"
    }
   ],
   "source": [
    "bright_fluences = bright_fluence_df['fluences']\n",
    "\n",
    "################################################################################\n",
    "# Plot the histogram of the fluences\n",
    "################################################################################\n",
    "\n",
    "fig, ax = plt.subplots(1, 1)\n",
    "log_fluences = np.log10(bright_fluences)\n",
    "log_bins = np.linspace(np.min(log_fluences), np.max(log_fluences), 20)\n",
    "ax.hist(log_fluences, bins=log_bins)\n",
    "ax.xaxis.set_tick_params(which='both', size=8, labelsize=12)\n",
    "ax.yaxis.set_tick_params(which='both', size=8, labelsize=12)\n",
    "ax.set_xlabel(r'Fluence (erg/cm$^2$)', size=14)\n",
    "ax.grid(which='both')\n",
    "plt.show()"
   ]
  },
  {
   "cell_type": "code",
   "execution_count": 9,
   "metadata": {},
   "outputs": [],
   "source": [
    "################################################################################\n",
    "# Save the list of selected Fermi IDs and fluences\n",
    "################################################################################\n",
    "\n",
    "with open('./bright_gbm_grbs.txt', 'w') as file:\n",
    "    file.write('#%10s %8s %8s\\n' %('fermi_id', 'fluence', 'T90'))\n",
    "    for fermi_id, fluence, T90 in zip(bright_fluence_df['fermi_ids'], bright_fluence_df['fluences'], bright_fluence_df['T90']):\n",
    "        file.write('%11s %3.2e %3.2e\\n' %(fermi_id, fluence, T90))"
   ]
  },
  {
   "cell_type": "code",
   "execution_count": 10,
   "metadata": {},
   "outputs": [],
   "source": [
    "with open('./gbm_lcs/astrodata/romain/GBM_LC_repository/data/fermi_ids.txt', 'w') as chosen_grbs:\n",
    "    for fermi_id in bright_fluence_df['fermi_ids']:\n",
    "        chosen_grbs.write('%11s\\n' %(fermi_id))"
   ]
  },
  {
   "cell_type": "code",
   "execution_count": 11,
   "metadata": {},
   "outputs": [],
   "source": [
    "################################################################################\n",
    "# LC selection\n",
    "################################################################################\n",
    "\n",
    "chosen_fermi_ids = np.loadtxt('./gbm_lcs/astrodata/romain/GBM_LC_repository/data/fermi_ids.txt', dtype=str)\n",
    "ids, units, starts, stops, counts = np.loadtxt('./gbm_lcs/astrodata/romain/GBM_LC_repository/data/fermi_id_time_count_list.txt', \n",
    "                                          dtype=str, unpack=True)\n",
    "\n",
    "units = units.astype('float')\n",
    "starts = starts.astype('float')\n",
    "stops = stops.astype('float')\n",
    "counts = counts.astype('float')\n",
    "sel_ids = np.array(bright_fluence_df['fermi_ids'])\n",
    "mask  = [fermi_id in sel_ids for fermi_id in ids]\n",
    "counts = counts[mask]"
   ]
  },
  {
   "cell_type": "code",
   "execution_count": 12,
   "metadata": {},
   "outputs": [
    {
     "data": {
      "text/html": [
       "<div>\n",
       "<style scoped>\n",
       "    .dataframe tbody tr th:only-of-type {\n",
       "        vertical-align: middle;\n",
       "    }\n",
       "\n",
       "    .dataframe tbody tr th {\n",
       "        vertical-align: top;\n",
       "    }\n",
       "\n",
       "    .dataframe thead th {\n",
       "        text-align: right;\n",
       "    }\n",
       "</style>\n",
       "<table border=\"1\" class=\"dataframe\">\n",
       "  <thead>\n",
       "    <tr style=\"text-align: right;\">\n",
       "      <th></th>\n",
       "      <th>fermi_ids</th>\n",
       "      <th>fluences</th>\n",
       "      <th>e_fluences</th>\n",
       "      <th>T90</th>\n",
       "      <th>Err_T90</th>\n",
       "    </tr>\n",
       "  </thead>\n",
       "  <tbody>\n",
       "    <tr>\n",
       "      <th>7</th>\n",
       "      <td>bn080723557</td>\n",
       "      <td>0.000072</td>\n",
       "      <td>2.540000e-07</td>\n",
       "      <td>58.369</td>\n",
       "      <td>1.985</td>\n",
       "    </tr>\n",
       "    <tr>\n",
       "      <th>9</th>\n",
       "      <td>bn080723985</td>\n",
       "      <td>0.000031</td>\n",
       "      <td>2.070000e-07</td>\n",
       "      <td>42.817</td>\n",
       "      <td>0.659</td>\n",
       "    </tr>\n",
       "    <tr>\n",
       "      <th>10</th>\n",
       "      <td>bn080724401</td>\n",
       "      <td>0.000016</td>\n",
       "      <td>5.040000e-08</td>\n",
       "      <td>379.397</td>\n",
       "      <td>2.202</td>\n",
       "    </tr>\n",
       "    <tr>\n",
       "      <th>13</th>\n",
       "      <td>bn080727964</td>\n",
       "      <td>0.000013</td>\n",
       "      <td>7.910000e-08</td>\n",
       "      <td>89.089</td>\n",
       "      <td>6.476</td>\n",
       "    </tr>\n",
       "    <tr>\n",
       "      <th>23</th>\n",
       "      <td>bn080806896</td>\n",
       "      <td>0.000013</td>\n",
       "      <td>1.940000e-07</td>\n",
       "      <td>75.777</td>\n",
       "      <td>4.185</td>\n",
       "    </tr>\n",
       "    <tr>\n",
       "      <th>...</th>\n",
       "      <td>...</td>\n",
       "      <td>...</td>\n",
       "      <td>...</td>\n",
       "      <td>...</td>\n",
       "      <td>...</td>\n",
       "    </tr>\n",
       "    <tr>\n",
       "      <th>2338</th>\n",
       "      <td>bn180612785</td>\n",
       "      <td>0.000016</td>\n",
       "      <td>5.770000e-08</td>\n",
       "      <td>101.122</td>\n",
       "      <td>1.056</td>\n",
       "    </tr>\n",
       "    <tr>\n",
       "      <th>2340</th>\n",
       "      <td>bn180615462</td>\n",
       "      <td>0.000015</td>\n",
       "      <td>1.780000e-07</td>\n",
       "      <td>22.528</td>\n",
       "      <td>1.810</td>\n",
       "    </tr>\n",
       "    <tr>\n",
       "      <th>2343</th>\n",
       "      <td>bn180618724</td>\n",
       "      <td>0.000019</td>\n",
       "      <td>5.270000e-08</td>\n",
       "      <td>130.050</td>\n",
       "      <td>1.280</td>\n",
       "    </tr>\n",
       "    <tr>\n",
       "      <th>2348</th>\n",
       "      <td>bn180623849</td>\n",
       "      <td>0.000020</td>\n",
       "      <td>3.400000e-08</td>\n",
       "      <td>15.872</td>\n",
       "      <td>0.810</td>\n",
       "    </tr>\n",
       "    <tr>\n",
       "      <th>2354</th>\n",
       "      <td>bn180703876</td>\n",
       "      <td>0.000016</td>\n",
       "      <td>4.290000e-08</td>\n",
       "      <td>20.736</td>\n",
       "      <td>1.557</td>\n",
       "    </tr>\n",
       "  </tbody>\n",
       "</table>\n",
       "<p>455 rows × 5 columns</p>\n",
       "</div>"
      ],
      "text/plain": [
       "        fermi_ids  fluences    e_fluences      T90  Err_T90\n",
       "7     bn080723557  0.000072  2.540000e-07   58.369    1.985\n",
       "9     bn080723985  0.000031  2.070000e-07   42.817    0.659\n",
       "10    bn080724401  0.000016  5.040000e-08  379.397    2.202\n",
       "13    bn080727964  0.000013  7.910000e-08   89.089    6.476\n",
       "23    bn080806896  0.000013  1.940000e-07   75.777    4.185\n",
       "...           ...       ...           ...      ...      ...\n",
       "2338  bn180612785  0.000016  5.770000e-08  101.122    1.056\n",
       "2340  bn180615462  0.000015  1.780000e-07   22.528    1.810\n",
       "2343  bn180618724  0.000019  5.270000e-08  130.050    1.280\n",
       "2348  bn180623849  0.000020  3.400000e-08   15.872    0.810\n",
       "2354  bn180703876  0.000016  4.290000e-08   20.736    1.557\n",
       "\n",
       "[455 rows x 5 columns]"
      ]
     },
     "execution_count": 12,
     "metadata": {},
     "output_type": "execute_result"
    }
   ],
   "source": [
    "chosen_df = bright_fluence_df[bright_fluence_df['fermi_ids'].isin(ids)]\n",
    "chosen_df"
   ]
  },
  {
   "cell_type": "code",
   "execution_count": 13,
   "metadata": {},
   "outputs": [
    {
     "data": {
      "text/plain": [
       "7       0.000072\n",
       "9       0.000031\n",
       "10      0.000016\n",
       "13      0.000013\n",
       "23      0.000013\n",
       "          ...   \n",
       "2338    0.000016\n",
       "2340    0.000015\n",
       "2343    0.000019\n",
       "2348    0.000020\n",
       "2354    0.000016\n",
       "Name: fluences, Length: 455, dtype: float64"
      ]
     },
     "execution_count": 13,
     "metadata": {},
     "output_type": "execute_result"
    }
   ],
   "source": [
    "chosen_fluences = chosen_df['fluences']\n",
    "chosen_fluences"
   ]
  },
  {
   "cell_type": "code",
   "execution_count": 14,
   "metadata": {},
   "outputs": [
    {
     "data": {
      "text/plain": [
       "7      -8.815059\n",
       "9      -8.710936\n",
       "10     -8.709810\n",
       "13     -8.465878\n",
       "23     -8.766167\n",
       "          ...   \n",
       "2338   -8.475040\n",
       "2340   -8.175175\n",
       "2343   -9.060399\n",
       "2348   -8.564230\n",
       "2354   -9.778027\n",
       "Name: fluences, Length: 455, dtype: float64"
      ]
     },
     "execution_count": 14,
     "metadata": {},
     "output_type": "execute_result"
    }
   ],
   "source": [
    "k = np.log10(chosen_fluences/counts)\n",
    "k"
   ]
  },
  {
   "cell_type": "code",
   "execution_count": 15,
   "metadata": {},
   "outputs": [],
   "source": [
    "np.savetxt(\"log10_fluence_over_counts_Fermi_GBM.txt\", k)"
   ]
  },
  {
   "cell_type": "code",
   "execution_count": 16,
   "metadata": {},
   "outputs": [
    {
     "data": {
      "image/png": "[encoded data removed]",
      "text/plain": [
       "<Figure size 640x480 with 1 Axes>"
      ]
     },
     "metadata": {},
     "output_type": "display_data"
    }
   ],
   "source": [
    "################################################################################\n",
    "# Plot the histogram of the conversion factors\n",
    "################################################################################\n",
    "\n",
    "fig, ax = plt.subplots(1, 1)\n",
    "log_bins = np.linspace(np.min(k), np.max(k), 50)\n",
    "ax.hist(k, bins=log_bins)\n",
    "ax.xaxis.set_tick_params(which='both', size=8, labelsize=12)\n",
    "ax.yaxis.set_tick_params(which='both', size=8, labelsize=12)\n",
    "ax.set_xlabel(r'k', size=14)\n",
    "ax.grid(which='both')\n",
    "plt.show()"
   ]
  },
  {
   "cell_type": "code",
   "execution_count": 17,
   "metadata": {},
   "outputs": [],
   "source": [
    "with open('./gbm_list.txt', 'w') as outfile:\n",
    "    outfile.write('#%11s %12s %12s %12s %12s %12s %12s %12s %12s\\n' % ('fermi_id', 'Units', 'T_start', 'T_stop', 'Counts', 'Fluence', 'k', 'T90', 'Err_T90'))\n",
    "    t90s = chosen_df['T90']\n",
    "    err_t90s = chosen_df['Err_T90']\n",
    "    for fermi_id, unit, start, stop, count, fluence, factor, t90, err_t90 in zip(fermi_ids, units, starts, stops, counts, chosen_fluences, k, t90s, err_t90s):\n",
    "        outfile.write('%12s %12d %12.3f %12.3f %12.3f %12.2e %12.5f %12.3f %12.3f\\n' % (fermi_id, unit, start, stop, count, fluence, factor, t90, err_t90))"
   ]
  }
 ],
 "metadata": {
  "kernelspec": {
   "display_name": "astro",
   "language": "python",
   "name": "python3"
  },
  "language_info": {
   "codemirror_mode": {
    "name": "ipython",
    "version": 3
   },
   "file_extension": ".py",
   "mimetype": "text/x-python",
   "name": "python",
   "nbconvert_exporter": "python",
   "pygments_lexer": "ipython3",
   "version": "3.12.4"
  }
 },
 "nbformat": 4,
 "nbformat_minor": 2
}
