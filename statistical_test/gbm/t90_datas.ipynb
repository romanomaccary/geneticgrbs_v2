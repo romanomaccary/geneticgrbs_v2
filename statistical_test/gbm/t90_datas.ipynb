{
 "cells": [
  {
   "cell_type": "markdown",
   "metadata": {},
   "source": [
    "GBM LCs repository: /astrodata/romain/GBM_LC_repository/data/bn*********/LC/"
   ]
  },
  {
   "cell_type": "code",
   "execution_count": 3,
   "metadata": {},
   "outputs": [],
   "source": [
    "################################################################################\n",
    "# Import the libraries\n",
    "################################################################################\n",
    "\n",
    "import numpy as np\n",
    "import pandas as pd\n",
    "import matplotlib.pyplot as plt"
   ]
  },
  {
   "cell_type": "markdown",
   "metadata": {},
   "source": [
    "GBM GRBs fluence catalogue: see Table 6 from von Kienlin et al. (2020) "
   ]
  },
  {
   "cell_type": "code",
   "execution_count": 6,
   "metadata": {},
   "outputs": [
    {
     "data": {
      "text/html": [
       "<div>\n",
       "<style scoped>\n",
       "    .dataframe tbody tr th:only-of-type {\n",
       "        vertical-align: middle;\n",
       "    }\n",
       "\n",
       "    .dataframe tbody tr th {\n",
       "        vertical-align: top;\n",
       "    }\n",
       "\n",
       "    .dataframe thead th {\n",
       "        text-align: right;\n",
       "    }\n",
       "</style>\n",
       "<table border=\"1\" class=\"dataframe\">\n",
       "  <thead>\n",
       "    <tr style=\"text-align: right;\">\n",
       "      <th></th>\n",
       "      <th>fermi_ids</th>\n",
       "      <th>T90</th>\n",
       "      <th>Err_T90</th>\n",
       "    </tr>\n",
       "  </thead>\n",
       "  <tbody>\n",
       "    <tr>\n",
       "      <th>0</th>\n",
       "      <td>bn080714086</td>\n",
       "      <td>5.376</td>\n",
       "      <td>2.360</td>\n",
       "    </tr>\n",
       "    <tr>\n",
       "      <th>1</th>\n",
       "      <td>bn080714425</td>\n",
       "      <td>40.192</td>\n",
       "      <td>1.145</td>\n",
       "    </tr>\n",
       "    <tr>\n",
       "      <th>2</th>\n",
       "      <td>bn080714745</td>\n",
       "      <td>59.649</td>\n",
       "      <td>11.276</td>\n",
       "    </tr>\n",
       "    <tr>\n",
       "      <th>3</th>\n",
       "      <td>bn080715950</td>\n",
       "      <td>7.872</td>\n",
       "      <td>0.272</td>\n",
       "    </tr>\n",
       "    <tr>\n",
       "      <th>4</th>\n",
       "      <td>bn080717543</td>\n",
       "      <td>36.609</td>\n",
       "      <td>2.985</td>\n",
       "    </tr>\n",
       "    <tr>\n",
       "      <th>...</th>\n",
       "      <td>...</td>\n",
       "      <td>...</td>\n",
       "      <td>...</td>\n",
       "    </tr>\n",
       "    <tr>\n",
       "      <th>2353</th>\n",
       "      <td>bn180701469</td>\n",
       "      <td>25.601</td>\n",
       "      <td>1.619</td>\n",
       "    </tr>\n",
       "    <tr>\n",
       "      <th>2354</th>\n",
       "      <td>bn180703876</td>\n",
       "      <td>20.736</td>\n",
       "      <td>1.557</td>\n",
       "    </tr>\n",
       "    <tr>\n",
       "      <th>2355</th>\n",
       "      <td>bn180703949</td>\n",
       "      <td>1.536</td>\n",
       "      <td>0.091</td>\n",
       "    </tr>\n",
       "    <tr>\n",
       "      <th>2356</th>\n",
       "      <td>bn180706351</td>\n",
       "      <td>38.144</td>\n",
       "      <td>1.145</td>\n",
       "    </tr>\n",
       "    <tr>\n",
       "      <th>2357</th>\n",
       "      <td>bn180709099</td>\n",
       "      <td>11.008</td>\n",
       "      <td>1.280</td>\n",
       "    </tr>\n",
       "  </tbody>\n",
       "</table>\n",
       "<p>2358 rows × 3 columns</p>\n",
       "</div>"
      ],
      "text/plain": [
       "        fermi_ids     T90  Err_T90\n",
       "0     bn080714086   5.376    2.360\n",
       "1     bn080714425  40.192    1.145\n",
       "2     bn080714745  59.649   11.276\n",
       "3     bn080715950   7.872    0.272\n",
       "4     bn080717543  36.609    2.985\n",
       "...           ...     ...      ...\n",
       "2353  bn180701469  25.601    1.619\n",
       "2354  bn180703876  20.736    1.557\n",
       "2355  bn180703949   1.536    0.091\n",
       "2356  bn180706351  38.144    1.145\n",
       "2357  bn180709099  11.008    1.280\n",
       "\n",
       "[2358 rows x 3 columns]"
      ]
     },
     "execution_count": 6,
     "metadata": {},
     "output_type": "execute_result"
    }
   ],
   "source": [
    "################################################################################\n",
    "# Load the machine readable Table 6 from von Kienlin et al. (2020)\n",
    "################################################################################\n",
    "\n",
    "fermi_ids = []\n",
    "t90s      = []\n",
    "e_t90     = []\n",
    "\n",
    "\n",
    "with open('./von_kienlin20_apj_table5.txt', 'r') as f:\n",
    "    lines = f.readlines()[93:]\n",
    "    for line in lines[:-1]:\n",
    "        words = line.split()\n",
    "        fermi_ids.append(words[0])\n",
    "        try:\n",
    "            t90s.append(float(words[2]))\n",
    "            e_t90.append(float(words[3]))\n",
    "        except ValueError:\n",
    "            t90s.append(float(words[3]))\n",
    "            e_t90.append(float(words[4]))\n",
    "\n",
    "\n",
    "        \n",
    "t90_dict = {'fermi_ids': fermi_ids, 'T90': t90s, 'Err_T90': e_t90}\n",
    "\n",
    "t90_df = pd.DataFrame(fluence_dict)\n",
    "t90_df"
   ]
  },
  {
   "cell_type": "code",
   "execution_count": 7,
   "metadata": {},
   "outputs": [
    {
     "data": {
      "text/html": [
       "<div>\n",
       "<style scoped>\n",
       "    .dataframe tbody tr th:only-of-type {\n",
       "        vertical-align: middle;\n",
       "    }\n",
       "\n",
       "    .dataframe tbody tr th {\n",
       "        vertical-align: top;\n",
       "    }\n",
       "\n",
       "    .dataframe thead th {\n",
       "        text-align: right;\n",
       "    }\n",
       "</style>\n",
       "<table border=\"1\" class=\"dataframe\">\n",
       "  <thead>\n",
       "    <tr style=\"text-align: right;\">\n",
       "      <th></th>\n",
       "      <th>fermi_ids</th>\n",
       "      <th>T90</th>\n",
       "      <th>Err_T90</th>\n",
       "    </tr>\n",
       "  </thead>\n",
       "  <tbody>\n",
       "    <tr>\n",
       "      <th>0</th>\n",
       "      <td>bn080714086</td>\n",
       "      <td>5.376</td>\n",
       "      <td>2.360</td>\n",
       "    </tr>\n",
       "    <tr>\n",
       "      <th>1</th>\n",
       "      <td>bn080714425</td>\n",
       "      <td>40.192</td>\n",
       "      <td>1.145</td>\n",
       "    </tr>\n",
       "    <tr>\n",
       "      <th>2</th>\n",
       "      <td>bn080714745</td>\n",
       "      <td>59.649</td>\n",
       "      <td>11.276</td>\n",
       "    </tr>\n",
       "    <tr>\n",
       "      <th>3</th>\n",
       "      <td>bn080715950</td>\n",
       "      <td>7.872</td>\n",
       "      <td>0.272</td>\n",
       "    </tr>\n",
       "    <tr>\n",
       "      <th>4</th>\n",
       "      <td>bn080717543</td>\n",
       "      <td>36.609</td>\n",
       "      <td>2.985</td>\n",
       "    </tr>\n",
       "    <tr>\n",
       "      <th>...</th>\n",
       "      <td>...</td>\n",
       "      <td>...</td>\n",
       "      <td>...</td>\n",
       "    </tr>\n",
       "    <tr>\n",
       "      <th>2352</th>\n",
       "      <td>bn180630467</td>\n",
       "      <td>12.032</td>\n",
       "      <td>1.864</td>\n",
       "    </tr>\n",
       "    <tr>\n",
       "      <th>2353</th>\n",
       "      <td>bn180701469</td>\n",
       "      <td>25.601</td>\n",
       "      <td>1.619</td>\n",
       "    </tr>\n",
       "    <tr>\n",
       "      <th>2354</th>\n",
       "      <td>bn180703876</td>\n",
       "      <td>20.736</td>\n",
       "      <td>1.557</td>\n",
       "    </tr>\n",
       "    <tr>\n",
       "      <th>2356</th>\n",
       "      <td>bn180706351</td>\n",
       "      <td>38.144</td>\n",
       "      <td>1.145</td>\n",
       "    </tr>\n",
       "    <tr>\n",
       "      <th>2357</th>\n",
       "      <td>bn180709099</td>\n",
       "      <td>11.008</td>\n",
       "      <td>1.280</td>\n",
       "    </tr>\n",
       "  </tbody>\n",
       "</table>\n",
       "<p>1967 rows × 3 columns</p>\n",
       "</div>"
      ],
      "text/plain": [
       "        fermi_ids     T90  Err_T90\n",
       "0     bn080714086   5.376    2.360\n",
       "1     bn080714425  40.192    1.145\n",
       "2     bn080714745  59.649   11.276\n",
       "3     bn080715950   7.872    0.272\n",
       "4     bn080717543  36.609    2.985\n",
       "...           ...     ...      ...\n",
       "2352  bn180630467  12.032    1.864\n",
       "2353  bn180701469  25.601    1.619\n",
       "2354  bn180703876  20.736    1.557\n",
       "2356  bn180706351  38.144    1.145\n",
       "2357  bn180709099  11.008    1.280\n",
       "\n",
       "[1967 rows x 3 columns]"
      ]
     },
     "execution_count": 7,
     "metadata": {},
     "output_type": "execute_result"
    }
   ],
   "source": [
    "################################################################################\n",
    "# Select only long GRBs\n",
    "################################################################################\n",
    "\n",
    "long_df = t90_df[t90_df['T90'] >= 2.]\n",
    "long_df"
   ]
  },
  {
   "cell_type": "code",
   "execution_count": 4,
   "metadata": {},
   "outputs": [
    {
     "data": {
      "image/png": "[encoded data removed]",
      "text/plain": [
       "<Figure size 640x480 with 1 Axes>"
      ]
     },
     "metadata": {},
     "output_type": "display_data"
    }
   ],
   "source": [
    "bright_fluences = bright_fluence_df['fluences']\n",
    "\n",
    "################################################################################\n",
    "# Plot the histogram of the fluences\n",
    "################################################################################\n",
    "\n",
    "fig, ax = plt.subplots(1, 1)\n",
    "log_fluences = np.log10(bright_fluences)\n",
    "log_bins = np.linspace(np.min(log_fluences), np.max(log_fluences), 20)\n",
    "ax.hist(log_fluences, bins=log_bins)\n",
    "ax.xaxis.set_tick_params(which='both', size=8, labelsize=12)\n",
    "ax.yaxis.set_tick_params(which='both', size=8, labelsize=12)\n",
    "ax.set_xlabel(r'Fluence (erg/cm$^2$)', size=14)\n",
    "ax.grid(which='both')\n",
    "plt.show()"
   ]
  },
  {
   "cell_type": "code",
   "execution_count": 9,
   "metadata": {},
   "outputs": [],
   "source": [
    "################################################################################\n",
    "# Save the list of selected Fermi IDs and fluences\n",
    "################################################################################\n",
    "\n",
    "with open('./bright_gbm_grbs.txt', 'w') as file:\n",
    "    file.write('#%10s %8s\\n' %('fermi_id', 'fluence'))\n",
    "    for fermi_id, fluence in zip(bright_fluence_df['fermi_ids'], bright_fluence_df['fluences']):\n",
    "        file.write('%11s %3.2e\\n' %(fermi_id, fluence))"
   ]
  },
  {
   "cell_type": "code",
   "execution_count": 5,
   "metadata": {},
   "outputs": [],
   "source": [
    "################################################################################\n",
    "# LC selection\n",
    "################################################################################\n",
    "\n",
    "chosen_fermi_ids = np.loadtxt('./gbm_lcs/astrodata/romain/GBM_LC_repository/data/fermi_ids.txt', dtype=str)\n",
    "units, starts, stops, counts = np.loadtxt('./gbm_lcs/astrodata/romain/GBM_LC_repository/data/fermi_id_time_count_list.txt', \n",
    "                                          usecols=(1, 2, 3, 4), unpack=True)"
   ]
  },
  {
   "cell_type": "code",
   "execution_count": 6,
   "metadata": {},
   "outputs": [
    {
     "data": {
      "text/html": [
       "<div>\n",
       "<style scoped>\n",
       "    .dataframe tbody tr th:only-of-type {\n",
       "        vertical-align: middle;\n",
       "    }\n",
       "\n",
       "    .dataframe tbody tr th {\n",
       "        vertical-align: top;\n",
       "    }\n",
       "\n",
       "    .dataframe thead th {\n",
       "        text-align: right;\n",
       "    }\n",
       "</style>\n",
       "<table border=\"1\" class=\"dataframe\">\n",
       "  <thead>\n",
       "    <tr style=\"text-align: right;\">\n",
       "      <th></th>\n",
       "      <th>fermi_ids</th>\n",
       "      <th>fluences</th>\n",
       "      <th>e_fluences</th>\n",
       "    </tr>\n",
       "  </thead>\n",
       "  <tbody>\n",
       "    <tr>\n",
       "      <th>7</th>\n",
       "      <td>bn080723557</td>\n",
       "      <td>0.000072</td>\n",
       "      <td>2.540000e-07</td>\n",
       "    </tr>\n",
       "    <tr>\n",
       "      <th>9</th>\n",
       "      <td>bn080723985</td>\n",
       "      <td>0.000031</td>\n",
       "      <td>2.070000e-07</td>\n",
       "    </tr>\n",
       "    <tr>\n",
       "      <th>10</th>\n",
       "      <td>bn080724401</td>\n",
       "      <td>0.000016</td>\n",
       "      <td>5.040000e-08</td>\n",
       "    </tr>\n",
       "    <tr>\n",
       "      <th>13</th>\n",
       "      <td>bn080727964</td>\n",
       "      <td>0.000013</td>\n",
       "      <td>7.910000e-08</td>\n",
       "    </tr>\n",
       "    <tr>\n",
       "      <th>23</th>\n",
       "      <td>bn080806896</td>\n",
       "      <td>0.000013</td>\n",
       "      <td>1.940000e-07</td>\n",
       "    </tr>\n",
       "    <tr>\n",
       "      <th>...</th>\n",
       "      <td>...</td>\n",
       "      <td>...</td>\n",
       "      <td>...</td>\n",
       "    </tr>\n",
       "    <tr>\n",
       "      <th>2338</th>\n",
       "      <td>bn180612785</td>\n",
       "      <td>0.000016</td>\n",
       "      <td>5.770000e-08</td>\n",
       "    </tr>\n",
       "    <tr>\n",
       "      <th>2340</th>\n",
       "      <td>bn180615462</td>\n",
       "      <td>0.000015</td>\n",
       "      <td>1.780000e-07</td>\n",
       "    </tr>\n",
       "    <tr>\n",
       "      <th>2343</th>\n",
       "      <td>bn180618724</td>\n",
       "      <td>0.000019</td>\n",
       "      <td>5.270000e-08</td>\n",
       "    </tr>\n",
       "    <tr>\n",
       "      <th>2348</th>\n",
       "      <td>bn180623849</td>\n",
       "      <td>0.000020</td>\n",
       "      <td>3.400000e-08</td>\n",
       "    </tr>\n",
       "    <tr>\n",
       "      <th>2354</th>\n",
       "      <td>bn180703876</td>\n",
       "      <td>0.000016</td>\n",
       "      <td>4.290000e-08</td>\n",
       "    </tr>\n",
       "  </tbody>\n",
       "</table>\n",
       "<p>459 rows × 3 columns</p>\n",
       "</div>"
      ],
      "text/plain": [
       "        fermi_ids  fluences    e_fluences\n",
       "7     bn080723557  0.000072  2.540000e-07\n",
       "9     bn080723985  0.000031  2.070000e-07\n",
       "10    bn080724401  0.000016  5.040000e-08\n",
       "13    bn080727964  0.000013  7.910000e-08\n",
       "23    bn080806896  0.000013  1.940000e-07\n",
       "...           ...       ...           ...\n",
       "2338  bn180612785  0.000016  5.770000e-08\n",
       "2340  bn180615462  0.000015  1.780000e-07\n",
       "2343  bn180618724  0.000019  5.270000e-08\n",
       "2348  bn180623849  0.000020  3.400000e-08\n",
       "2354  bn180703876  0.000016  4.290000e-08\n",
       "\n",
       "[459 rows x 3 columns]"
      ]
     },
     "execution_count": 6,
     "metadata": {},
     "output_type": "execute_result"
    }
   ],
   "source": [
    "chosen_df = bright_fluence_df[bright_fluence_df['fermi_ids'].isin(chosen_fermi_ids)]\n",
    "chosen_df"
   ]
  },
  {
   "cell_type": "code",
   "execution_count": 8,
   "metadata": {},
   "outputs": [
    {
     "data": {
      "text/plain": [
       "7       0.000072\n",
       "9       0.000031\n",
       "10      0.000016\n",
       "13      0.000013\n",
       "23      0.000013\n",
       "          ...   \n",
       "2338    0.000016\n",
       "2340    0.000015\n",
       "2343    0.000019\n",
       "2348    0.000020\n",
       "2354    0.000016\n",
       "Name: fluences, Length: 459, dtype: float64"
      ]
     },
     "execution_count": 8,
     "metadata": {},
     "output_type": "execute_result"
    }
   ],
   "source": [
    "chosen_fluences = chosen_df['fluences']\n",
    "chosen_fluences"
   ]
  },
  {
   "cell_type": "code",
   "execution_count": 9,
   "metadata": {},
   "outputs": [
    {
     "data": {
      "text/plain": [
       "7      -8.815059\n",
       "9      -8.710936\n",
       "10     -8.709810\n",
       "13     -8.465878\n",
       "23     -8.766167\n",
       "          ...   \n",
       "2338   -8.475040\n",
       "2340   -8.175175\n",
       "2343   -9.060399\n",
       "2348   -8.564230\n",
       "2354   -9.778027\n",
       "Name: fluences, Length: 459, dtype: float64"
      ]
     },
     "execution_count": 9,
     "metadata": {},
     "output_type": "execute_result"
    }
   ],
   "source": [
    "k = np.log10(chosen_fluences/counts)\n",
    "k"
   ]
  },
  {
   "cell_type": "code",
   "execution_count": 10,
   "metadata": {},
   "outputs": [],
   "source": [
    "np.savetxt(\"log10_fluence_over_counts_Fermi_GBM.txt\", k)"
   ]
  },
  {
   "cell_type": "code",
   "execution_count": 31,
   "metadata": {},
   "outputs": [
    {
     "data": {
      "image/png": "[encoded data removed]",
      "text/plain": [
       "<Figure size 640x480 with 1 Axes>"
      ]
     },
     "metadata": {},
     "output_type": "display_data"
    }
   ],
   "source": [
    "################################################################################\n",
    "# Plot the histogram of the conversion factors\n",
    "################################################################################\n",
    "\n",
    "fig, ax = plt.subplots(1, 1)\n",
    "log_bins = np.linspace(np.min(k), np.max(k), 50)\n",
    "ax.hist(k, bins=log_bins)\n",
    "ax.xaxis.set_tick_params(which='both', size=8, labelsize=12)\n",
    "ax.yaxis.set_tick_params(which='both', size=8, labelsize=12)\n",
    "ax.set_xlabel(r'k', size=14)\n",
    "ax.grid(which='both')\n",
    "plt.show()"
   ]
  },
  {
   "cell_type": "code",
   "execution_count": 29,
   "metadata": {},
   "outputs": [],
   "source": [
    "with open('./gbm_list.txt', 'w') as outfile:\n",
    "    outfile.write('#%11s %12s %12s %12s %12s %12s %12s\\n' % ('fermi_id', 'Units', 'T_start', 'T_stop', 'Counts', 'Fluence', 'k'))\n",
    "    for fermi_id, unit, start, stop, count, fluence, factor in zip(fermi_ids, units, starts, stops, counts, chosen_fluences, k):\n",
    "        outfile.write('%12s %12d %12.3f %12.3f %12.3f %12.2e, %12.5f\\n' % (fermi_id, unit, start, stop, count, fluence, factor))"
   ]
  }
 ],
 "metadata": {
  "kernelspec": {
   "display_name": "astro",
   "language": "python",
   "name": "python3"
  },
  "language_info": {
   "codemirror_mode": {
    "name": "ipython",
    "version": 3
   },
   "file_extension": ".py",
   "mimetype": "text/x-python",
   "name": "python",
   "nbconvert_exporter": "python",
   "pygments_lexer": "ipython3",
   "version": "3.12.4"
  }
 },
 "nbformat": 4,
 "nbformat_minor": 2
}
