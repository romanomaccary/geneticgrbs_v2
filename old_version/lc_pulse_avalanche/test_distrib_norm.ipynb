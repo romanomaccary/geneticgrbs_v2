{
 "cells": [
  {
   "cell_type": "code",
   "execution_count": 1,
   "metadata": {},
   "outputs": [],
   "source": [
    "\n",
    "import numpy as np\n",
    "from sde import *\n",
    "\n",
    "\n",
    "# #Range of the 5 parameters of the BPL model of the pulse counts distribution\n",
    "# range_alpha_bpl = {\"low\": 1.+epsilon,                  \"high\": 2.-epsilon}\n",
    "# range_beta_bpl  = {\"low\": 2.+epsilon,                  \"high\": 3.} \n",
    "# range_F_break   = {\"low\": np.log10(1.e-7*(1+epsilon)), \"high\": np.log10(1.e-5)}             # sample `F_break` uniformly in log space\n",
    "# range_F_min     = {\"low\": np.log10(1.e-8),             \"high\": np.log10(1.e-7*(1-epsilon))} # sample `F_min`   uniformly in log space\n",
    "\n",
    "\n"
   ]
  },
  {
   "cell_type": "code",
   "execution_count": 2,
   "metadata": {},
   "outputs": [],
   "source": [
    "ndis=1000\n",
    "peak_cts=[]\n",
    "alpha_bpl = 1.5\n",
    "beta_bpl = 2.5\n",
    "F_break = 1e-6\n",
    "F_min = 1e-8\n",
    "for i in range(ndis):\n",
    "    lc=LC(q=0.1,a=0.05,alpha=2, k=1, t_0=0.2,t_min=+0.1, t_max=1000, res=0.256, \n",
    "                    eff_area=3600, bg_level=10.67, with_bg=True, use_poisson=True,\n",
    "                    min_photon_rate=1.3, max_photon_rate=1300, sigma=5, \n",
    "                    n_cut=None, instrument='batse', verbose=False,alpha_bpl=alpha_bpl, beta_bpl=beta_bpl, F_break=F_break, F_min=F_min)#New parameters of the BPL count distrib\n",
    "    lc.generate_LC_from_sde(q=0.1,a=0.05,alpha=2,k=1,t_0=0.2,alpha_bpl=alpha_bpl,beta_bpl=beta_bpl,F_break=F_break,F_min=F_min)\n",
    "    peak_cts.append(lc._norm_A)"
   ]
  },
  {
   "cell_type": "code",
   "execution_count": 3,
   "metadata": {},
   "outputs": [
    {
     "name": "stdout",
     "output_type": "stream",
     "text": [
      "12.345384010276577 67763.2523249587\n"
     ]
    },
    {
     "data": {
      "text/plain": [
       "Text(0, 0.5, '#')"
      ]
     },
     "execution_count": 3,
     "metadata": {},
     "output_type": "execute_result"
    },
    {
     "data": {
      "image/png": "[encoded data removed]",
      "text/plain": [
       "<Figure size 640x480 with 1 Axes>"
      ]
     },
     "metadata": {},
     "output_type": "display_data"
    }
   ],
   "source": [
    "print(np.min(peak_cts),np.max(peak_cts))\n",
    "#plt.figure(figsize=(12,8))\n",
    "plt.hist(peak_cts,bins=np.logspace(np.log10(np.min(peak_cts)),np.log10(np.max(peak_cts)),12))\n",
    "plt.xscale('log')\n",
    "plt.yscale('log')\n",
    "plt.xlabel('Peak cts')\n",
    "plt.ylabel('#')\n"
   ]
  },
  {
   "cell_type": "code",
   "execution_count": null,
   "metadata": {},
   "outputs": [],
   "source": []
  }
 ],
 "metadata": {
  "kernelspec": {
   "display_name": "LC_GA",
   "language": "python",
   "name": "python3"
  },
  "language_info": {
   "codemirror_mode": {
    "name": "ipython",
    "version": 3
   },
   "file_extension": ".py",
   "mimetype": "text/x-python",
   "name": "python",
   "nbconvert_exporter": "python",
   "pygments_lexer": "ipython3",
   "version": "3.10.16"
  }
 },
 "nbformat": 4,
 "nbformat_minor": 2
}
